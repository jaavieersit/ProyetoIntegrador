{
 "cells": [
  {
   "cell_type": "markdown",
   "metadata": {},
   "source": [
    "¡¡IMPORTANDO LIBRERIAS!!"
   ]
  },
  {
   "cell_type": "code",
   "execution_count": 40,
   "metadata": {},
   "outputs": [],
   "source": [
    "# PANDAS\n",
    "import pandas as pd\n",
    "\n",
    "# IMPORTAR DF\n",
    "import pickle\n",
    "\n",
    "# LIBRERIA PARA BUSQQUEDA LINEAL\n",
    "from binarytree import build"
   ]
  },
  {
   "cell_type": "code",
   "execution_count": 41,
   "metadata": {},
   "outputs": [],
   "source": [
    "\n",
    "# Cargar `df` desde el archivo \"1.tratamiento.ipynb\"\n",
    "\n",
    "with open('datos.pickle', 'rb') as algoritmo_lineal:\n",
    "    df = pickle.load(algoritmo_lineal)"
   ]
  },
  {
   "cell_type": "code",
   "execution_count": 42,
   "metadata": {},
   "outputs": [
    {
     "data": {
      "text/plain": [
       "0"
      ]
     },
     "execution_count": 42,
     "metadata": {},
     "output_type": "execute_result"
    }
   ],
   "source": [
    "indice_busqueda"
   ]
  },
  {
   "cell_type": "code",
   "execution_count": 43,
   "metadata": {},
   "outputs": [
    {
     "name": "stdout",
     "output_type": "stream",
     "text": [
      "No se ha encontrado ninguna persona con ese número: 1\n",
      "Recomendación de tratamiento para la diabetes: Estilo de vida saludable y seguimiento médico regular.\n",
      "Recomendación de tratamiento para la hipertensión: Medicación para controlar la presión arterial y seguimiento médico regular.\n"
     ]
    }
   ],
   "source": [
    "\n",
    "# Crear el diccionario de índices\n",
    "index_dict = dict(zip(range(len(df)), df.index))\n",
    "\n",
    "# Construir el árbol binario basado en los índices\n",
    "tree = build(list(index_dict.keys()))\n",
    "\n",
    "# Definir la función para buscar una persona por índice en el árbol\n",
    "def buscar_persona(indice, node):\n",
    "    if node is None:\n",
    "        return None\n",
    "    if node.value == indice:\n",
    "        return index_dict[indice]\n",
    "    if indice < node.value:\n",
    "        return buscar_persona(indice, node.left)\n",
    "    else:\n",
    "        return buscar_persona(indice, node.right)\n",
    "\n",
    "# Solicitar al usuario ingresar el número del paciente a buscar\n",
    "indice_busqueda = int(input(\"Ingrese el número del paciente a buscar: \"))\n",
    "\n",
    "# Buscar el índice de la persona en el árbol\n",
    "indice_persona = buscar_persona(indice_busqueda, tree)\n",
    "\n",
    "# Mostrar el resultado de la búsqueda\n",
    "if indice_persona is not None:\n",
    "    resultado = df.loc[indice_persona]\n",
    "    print(resultado)\n",
    "else:\n",
    "    print(\"No se ha encontrado ninguna persona con ese número:\", indice_busqueda)\n",
    "\n",
    "# Lógica de recomendación de tratamiento\n",
    "# Tratamiento para la diabetes\n",
    "if resultado['Diabetes'] == 0:\n",
    "    print(\"Recomendación de tratamiento para la diabetes: Estilo de vida saludable y seguimiento médico regular.\")\n",
    "else:\n",
    "    print(\"Recomendación de tratamiento para la diabetes: Control de la glucosa en sangre, medicación y seguimiento médico especializado.\")\n",
    "\n",
    "# Tratamiento para la hipertensión\n",
    "if resultado['Hipertencion'] == 1:\n",
    "    print(\"Recomendación de tratamiento para la hipertensión: Medicación para controlar la presión arterial y seguimiento médico regular.\")\n",
    "\n",
    "# Tratamiento para el historial de fumador\n",
    "historial_fumador = resultado['Historial_fumador']\n",
    "if historial_fumador == 1:\n",
    "    print(\"Recomendación de tratamiento para el historial de fumador: Asesoramiento para dejar de fumar y seguimiento médico para evaluar los efectos del tabaquismo.\")\n",
    "elif historial_fumador == 2:\n",
    "    print(\"Recomendación de tratamiento para el historial de fumador: Apoyo y recursos para evitar recaídas y seguimiento médico para evaluar los efectos del tabaquismo anterior.\")\n",
    "elif historial_fumador == 3:\n",
    "    print(\"Recomendación de tratamiento para el historial de fumador: Evaluación de los efectos del tabaquismo pasado y asesoramiento para evitar futuras recaídas.\")\n",
    "elif historial_fumador == 4:\n",
    "    print(\"Recomendación de tratamiento para el historial de fumador: Promoción de hábitos saludables y seguimiento médico para prevenir el inicio del tabaquismo.\")\n",
    "\n",
    "# Tratamiento para el IMC\n",
    "imc = resultado['IMC']\n",
    "if imc >= 30:\n",
    "    print(\"Recomendación de tratamiento para la obesidad: Cambios en la alimentación, actividad física regular y seguimiento médico para controlar el peso.\")\n",
    "elif imc >= 25:\n",
    "    print(\"Recomendación de tratamiento para el sobrepeso: Modificaciones en la dieta, aumento de la actividad física y seguimiento médico para controlar el peso.\")\n",
    "\n",
    "# Agregar más lógica de recomendación de tratamiento según otros atributos del paciente\n"
   ]
  },
  {
   "cell_type": "code",
   "execution_count": 44,
   "metadata": {},
   "outputs": [],
   "source": [
    "# index_dict = dict(zip(range(len(df)), df.index))\n",
    "\n",
    "# class Node:\n",
    "#     def __init__(self, valor):\n",
    "#         self.valor = valor\n",
    "#         self.siguiente = None\n",
    "\n",
    "# def construir_arbol(llaves):\n",
    "#     if not llaves:\n",
    "#         return None\n",
    "\n",
    "#     raiz = Node(llaves[0])\n",
    "#     actual = raiz\n",
    "\n",
    "#     for indice in llaves[1:]:\n",
    "#         nuevo_nodo = Node(indice)\n",
    "#         actual.siguiente = nuevo_nodo\n",
    "#         actual = nuevo_nodo\n",
    "\n",
    "#     return raiz\n",
    "\n",
    "# def buscar_persona(indice, raiz):\n",
    "#     actual = raiz\n",
    "\n",
    "#     while actual is not None:\n",
    "#         if actual.valor == indice:\n",
    "#             return actual.valor\n",
    "#         actual = actual.siguiente\n",
    "\n",
    "#     return None\n",
    "\n",
    "# indice_busqueda = int(input(\"Ingrese el índice del paciente a buscar: \"))\n",
    "\n",
    "# raiz_arbol = construir_arbol(list(index_dict.keys()))\n",
    "\n",
    "# indice_persona = buscar_persona(indice_busqueda, raiz_arbol)\n",
    "\n",
    "# if indice_persona is not None:\n",
    "#     resultado = df[index_dict[indice_persona]]\n",
    "#     print(resultado)\n",
    "# else:\n",
    "#     print(\"No se encontró a ninguna persona con ese índice:\", indice_busqueda)\n"
   ]
  }
 ],
 "metadata": {
  "kernelspec": {
   "display_name": "Python 3",
   "language": "python",
   "name": "python3"
  },
  "language_info": {
   "codemirror_mode": {
    "name": "ipython",
    "version": 3
   },
   "file_extension": ".py",
   "mimetype": "text/x-python",
   "name": "python",
   "nbconvert_exporter": "python",
   "pygments_lexer": "ipython3",
   "version": "3.10.11"
  },
  "orig_nbformat": 4
 },
 "nbformat": 4,
 "nbformat_minor": 2
}
