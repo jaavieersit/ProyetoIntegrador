{
 "cells": [
  {
   "cell_type": "code",
   "execution_count": 1,
   "metadata": {},
   "outputs": [],
   "source": [
    "# archivos csv\n",
    "import pandas as pd\n",
    "\n",
    "# PANDAS\n",
    "import pandas as pd\n",
    "\n",
    "# IMPORTAR DF\n",
    "import pickle\n",
    "\n",
    "# INTERFAZ\n",
    "import sys\n",
    "from PyQt6.QtWidgets import QApplication, QMainWindow, QTableView\n",
    "from PyQt6.QtCore import Qt\n",
    "from PyQt6.QtCore import Qt, QAbstractTableModel\n",
    "import numpy as np\n",
    "\n"
   ]
  },
  {
   "cell_type": "code",
   "execution_count": 2,
   "metadata": {},
   "outputs": [],
   "source": [
    "\n",
    "# Cargar `df` desde el archivo\n",
    "\n",
    "with open('datos.pickle', 'rb') as archivo:\n",
    "    df = pickle.load(archivo)\n",
    "\n"
   ]
  },
  {
   "cell_type": "code",
   "execution_count": 3,
   "metadata": {},
   "outputs": [
    {
     "ename": "SystemExit",
     "evalue": "0",
     "output_type": "error",
     "traceback": [
      "An exception has occurred, use %tb to see the full traceback.\n",
      "\u001b[1;31mSystemExit\u001b[0m\u001b[1;31m:\u001b[0m 0\n"
     ]
    },
    {
     "name": "stderr",
     "output_type": "stream",
     "text": [
      "C:\\Users\\victo\\AppData\\Local\\Packages\\PythonSoftwareFoundation.Python.3.10_qbz5n2kfra8p0\\LocalCache\\local-packages\\Python310\\site-packages\\IPython\\core\\interactiveshell.py:3516: UserWarning: To exit: use 'exit', 'quit', or Ctrl-D.\n",
      "  warn(\"To exit: use 'exit', 'quit', or Ctrl-D.\", stacklevel=1)\n"
     ]
    }
   ],
   "source": [
    "class MyWindow(QMainWindow):\n",
    "    def __init__(self, data):\n",
    "        super().__init__()\n",
    "        self.setWindowTitle(\"Dataset Viewer\")\n",
    "        self.resize(800, 600)\n",
    "\n",
    "        # Crear un modelo de datos de pandas para la tabla\n",
    "        model = PandasModel(data)\n",
    "\n",
    "        # Crear una vista de tabla y establecer el modelo de datos\n",
    "        table_view = QTableView(self)\n",
    "        table_view.setModel(model)\n",
    "        table_view.setSortingEnabled(True)\n",
    "\n",
    "        # Ajustar el tamaño de las columnas al contenido\n",
    "        table_view.resizeColumnsToContents()\n",
    "\n",
    "        # Añadir la vista de tabla a la ventana principal\n",
    "        self.setCentralWidget(table_view)\n",
    "\n",
    "\n",
    "class PandasModel(QAbstractTableModel):\n",
    "    def __init__(self, data):\n",
    "        super().__init__()\n",
    "        self._data = data\n",
    "        self._headers = data.columns.tolist()  # Obtener los encabezados de las columnas\n",
    "\n",
    "    def rowCount(self, parent):\n",
    "        return len(self._data)\n",
    "\n",
    "    def columnCount(self, parent):\n",
    "        return self._data.shape[1]\n",
    "\n",
    "    def data(self, index, role):\n",
    "        if role == Qt.ItemDataRole.DisplayRole:\n",
    "            return str(self._data.iloc[index.row(), index.column()])\n",
    "\n",
    "        return None\n",
    "\n",
    "    def headerData(self, section, orientation, role):\n",
    "        if orientation == Qt.Orientation.Horizontal and role == Qt.ItemDataRole.DisplayRole:\n",
    "            return self._headers[section]\n",
    "\n",
    "        return None\n",
    "\n",
    "\n",
    "if __name__ == \"__main__\":\n",
    "    # Crear una aplicación PyQt6\n",
    "    app = QApplication(sys.argv)\n",
    "\n",
    "   \n",
    "\n",
    "    # Crear una ventana y mostrar el dataset\n",
    "    window = MyWindow(df)\n",
    "    window.show()\n",
    "\n",
    "    \n",
    "\n",
    "\n",
    "\n",
    "    # Iniciar el bucle de eventos de la aplicación\n",
    "    sys.exit(app.exec())"
   ]
  },
  {
   "cell_type": "code",
   "execution_count": null,
   "metadata": {},
   "outputs": [],
   "source": [
    "\n",
    "# import tkinter as tk\n",
    "# from tkinter import filedialog\n",
    "# import pandas as pd\n",
    "\n",
    "# def abrir_dataset():\n",
    "#     filepath = filedialog.askopenfilename(title=\"Abrir dataset\", filetypes=((\"CSV files\", \"*.csv\"), (\"All files\", \"*.*\")))\n",
    "#     if filepath:\n",
    "#         df = pd.read_csv(filepath)\n",
    "#         # Hacer algo con el dataframe \"df\" abierto\n",
    "\n",
    "# # Crear la ventana principal\n",
    "# ventana = tk.Tk()\n",
    "\n",
    "# # Función para cerrar la ventana\n",
    "# def cerrar_ventana():\n",
    "#     ventana.destroy()\n",
    "\n",
    "# # Configurar la ventana\n",
    "# ventana.title(\"Interfaz de apertura de dataset\")\n",
    "# ventana.geometry(\"400x200\")\n",
    "\n",
    "# # Crear un botón para abrir el dataset\n",
    "# btn_abrir_dataset = tk.Button(ventana, text=\"Abrir dataset\", command=abrir_dataset)\n",
    "# btn_abrir_dataset.pack(pady=20)\n",
    "\n",
    "# # Crear un botón para cerrar la ventana\n",
    "# btn_cerrar = tk.Button(ventana, text=\"Cerrar\", command=cerrar_ventana)\n",
    "# btn_cerrar.pack()\n",
    "\n",
    "# # Iniciar el bucle de la aplicación\n",
    "# ventana.mainloop()\n",
    " "
   ]
  }
 ],
 "metadata": {
  "kernelspec": {
   "display_name": "Python 3",
   "language": "python",
   "name": "python3"
  },
  "language_info": {
   "codemirror_mode": {
    "name": "ipython",
    "version": 3
   },
   "file_extension": ".py",
   "mimetype": "text/x-python",
   "name": "python",
   "nbconvert_exporter": "python",
   "pygments_lexer": "ipython3",
   "version": "3.10.11"
  },
  "orig_nbformat": 4
 },
 "nbformat": 4,
 "nbformat_minor": 2
}
